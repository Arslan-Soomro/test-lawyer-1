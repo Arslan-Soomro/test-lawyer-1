{
 "cells": [
  {
   "cell_type": "code",
   "execution_count": 83,
   "metadata": {},
   "outputs": [],
   "source": [
    "from langchain_anthropic import ChatAnthropic\n",
    "\n",
    "pinecone_namespace = \"simple-rag-1\"\n",
    "chat_history = [{\n",
    "    \"role\": \"human\",\n",
    "    \"message\": \"Describe the hierarchy and organizational structure of the judicial system in Pakistan.\"\n",
    "},\n",
    "    {\n",
    "    \"role\": \"ai\",\n",
    "    \"message\": \"The judicial system in Pakistan follows a hierarchical structure with the Supreme Court at the top, followed by High Courts in each province, and subordinate courts which include district and sessions courts, civil and judicial magistrates.\"\n",
    "},\n",
    "    {\n",
    "    \"role\": \"human\",\n",
    "    \"message\": \"what is the role of subordinate courts\"\n",
    "},\n",
    "    {\n",
    "    \"role\": \"ai\",\n",
    "    \"message\": \"Subordinate courts handle the bulk of civil and criminal cases at the district level.\"\n",
    "}\n",
    "\n",
    "]\n",
    "question = \"what challenges are faced by them\"\n",
    "\n",
    "model = ChatAnthropic(model=\"claude-3-sonnet-20240229\")\n",
    "\n",
    "test_response = model.invoke(\"Hello how are you?\")"
   ]
  },
  {
   "cell_type": "markdown",
   "metadata": {},
   "source": [
    "### Rephrase Query According to Conversation"
   ]
  },
  {
   "cell_type": "code",
   "execution_count": 84,
   "metadata": {},
   "outputs": [
    {
     "name": "stdout",
     "output_type": "stream",
     "text": [
      "What are the major challenges faced by subordinate courts in Pakistan's judicial system?\n"
     ]
    }
   ],
   "source": [
    "from langchain_core.messages import HumanMessage, AIMessage, SystemMessage\n",
    "\n",
    "rephrase_query_prompt = [\n",
    "    SystemMessage(\n",
    "        \"Given the following conversation, repharase the followup question to be a standalone question, that is understandable and optimized for similarity search while preserving the meaning. The output should just be the rephrased question\")\n",
    "] + [\n",
    "    HumanMessage(entry[\"message\"]) if entry[\"role\"] == \"human\" else AIMessage(entry[\"message\"]) for entry in chat_history\n",
    "] + [HumanMessage(f\"followup: \\n {question}\")]\n",
    "rephrase_query_answer = model.invoke(rephrase_query_prompt)\n",
    "query = rephrase_query_answer.content\n",
    "print(query)"
   ]
  },
  {
   "cell_type": "markdown",
   "metadata": {},
   "source": [
    "### Find relevant chunks to rephrase query"
   ]
  },
  {
   "cell_type": "code",
   "execution_count": 85,
   "metadata": {},
   "outputs": [],
   "source": [
    "from utils import get_relevant_chunks\n",
    "\n",
    "relevant_chunks = get_relevant_chunks(query, pinecone_namespace, 10)\n",
    "relevant_chunks_text = [item[\"metadata\"][\"text\"] for item in relevant_chunks]"
   ]
  },
  {
   "cell_type": "markdown",
   "metadata": {},
   "source": [
    "### Rerank chunks"
   ]
  },
  {
   "cell_type": "code",
   "execution_count": 86,
   "metadata": {},
   "outputs": [
    {
     "name": "stdout",
     "output_type": "stream",
     "text": [
      "‫המקדיש‪ ,‬כיוון שעל ידי כך לא יוכל לפעול ביעילות מי שאמור למלא את משימת‬\n",
      "‫החלוקה של הכספים‪ .‬העברת הנכסים אל הממונה נועדה אפוא לאפשר לו למלא את‬\n",
      "‫המשימה שנקבעה על־ידי המקדיש‪.‬‬\n",
      "‫‪38‬‬\n",
      "‫אולם במקרה זה‪ ,‬כשלא הוגדר נהנה מסוים‪ ,‬לא יימצא אדם הרשאי לטעון‬\n",
      "‫שהוא הנהנה‪ .‬מי יהיה זכאי לאכוף על הנאמן למלא את התחייבותו ולהימנע‬\n",
      "‫מלהפיק תועלת לעצמו משליטתו בנכסי הנאמנות?‬\n",
      "‫באנגליה אימצו את דרך הפתרון הרומי‪ ,‬היינו‪ ,‬בעזרת סמכות האכיפה של‬\n",
      "‫רשות שלטונית‪ ,‬אשר ‪ -‬כמו הפרטור הרומי ‪ -‬עסקה גם בפתרון סכסוכים בין‬\n",
      "‫אזרחים על יסוד שיקולים של עשיית צדק ויושר‪ .‬בראש מערכת זו עמד ה‪-‬‬\n",
      "‫‪ ,Chancellor‬שבמשך מאות שנים מילא תפקיד ביצועי מרכזי בממלכה‪ .‬רק‬\n",
      "‫בראשית המאה הי״ט הפכה מערכת הטיפול בפניות הנתינים למסגרת שיפוטית‪.‬‬\n",
      "‫סמכות זו מיושמת כיום במסגרת מחלקת ^‪ Chancery-‬של בית‪-‬המשפט‪.‬‬\n",
      "‫‪39‬‬\n",
      "‫\"קופה של צדקה״ בלשון התלמוד‪ ,‬ראו בבא בתרא ח‪ ,‬ע״ב‪.‬‬\n",
      "‫״תמחוי״ בלשון התלמוד‪ .‬ראו בבא בתרא ח‪ ,‬ע״ב‪.‬‬\n",
      "‫בשיטות משפטיות ללא מסגרת פורמלית של רישום בעלות בנכסים אין מייחסים חשיבות לנושא‬----------------------\n",
      "‫‪nd‬‬\n",
      "‫באנגליה לחמו בתי‪-‬המשפט בתופעות אלו כבר מלכתחילה‪ .‬לאחר־מכן גם החקיקה הגבילה את‬\n",
      "‫‪ .‬בצרפת לחמו בתופעות‬\n",
      "‫‪a‬‬\n",
      "‫‪t‬‬\n",
      "‫‪p.‬‬\n",
      "‫‪Holdsworth, supra note 32,‬‬\n",
      "‫משך קיומה של נאמנות‪ .‬ראו ‪194‬‬\n",
      "‫אלה של הסדרים לדורות על‪-‬ידי חקיקה‪ ,‬אם כי הצלחה של ממש הושגה רק עם המהפכה‬\n",
      "‫‪Why no Trusts in‬‬\n",
      "‫‪the\",‬‬\n",
      "‫‪V. Bolgár‬‬\n",
      "‫י ת ‪ ;.289-30.Planiol-Ripet, op. c i t‬וכן ראו‬\n",
      "‫לגבי מדינות‬\n",
      "‫‪A m e r i c a n J o u r n a l of C o m p a r a t i v e‬‬\n",
      "‫‪Law2‬‬\n",
      "‫? \"‬\n",
      "‫)‬\n",
      "‫אירופאיות נוספות‪.‬‬\n",
      "‫בעולם המוסלמי שונות השיטות והגישות מארץ לארץ‪ .‬ראו גויטיין ובן‪-‬שמש)לעיל‪ ,‬הערה ‪165 (12‬‬\n",
      "‫ואילך‪.‬‬\n",
      "‫לגבי המצב באנגליה ומאבק בתי‪-‬המשפט נגד תופעה זו ראו ‪Holdsworth, A , H i s t o r y of‬‬\n",
      "‫‪ . E n g l i s h L a w VII 194‬בצרפת שבה שימשה הנאמנות מחמת מיתה‪Substitution ,‬‬\n",
      "‫‪ fidèicommissaire‬מכשיר להשלטת רצון המצווה על הדורות הבאים‪ 95% ,‬מקרקעות הממלכה‬\n",
      "‫בצרפת של המאה הט״ז היו כפופים לנאמנויות כאלה‪ ,‬שלגביהן ניתן היה לטעון שהן צורת קניין‬----------------------\n",
      "‫בשל היקפם‪ ,‬וכן דרכי מימוש מטרות הנאמנות‪ ,‬מצדיקים מנגנון קבע‪ ,‬על‬\n",
      "‫ההוצאות הכרוכות בכך‪ .‬ואכן‪ ,‬מקובל להקים תאגידים לצורך תפעול נאמנויות‪,‬‬\n",
      "‫כשהיקף פעילותן מצדיק זאת‪ .‬תאגיד אינו מתאים לשמש אמצעי נאות לגבי‬\n",
      "‫גויטיין ובן‪-‬שמש המשפט המוםלימי במדינת ישראל ‪ ;1‬מ׳ דוכן‪ ,‬דיני קרקעות במדינת ישדאל‪) ,‬מהדורה‬\n",
      "‫‪A. Layish, \"The Muslim Waqf in Israel, A s i a n a n d A f r i c a n Studies,‬‬\n",
      "‫שניה( ‪;62 ,73‬‬\n",
      "‫ע״א ‪ 37/81‬נשאשיבי נ׳ נשאשיבי‪ ,‬פ״ד לז)‪ ,377 (1‬שם ניטשה מחלוקת על הזכות‪4(196 ).‬‬\n",
      "‫וראו‬\n",
      "‫לנהל וקף‪ ,‬אולם למעשה היה זה מאבק על זכות ההנאה מנכס‪ ,‬שכנראה היה שייך לווקף‪.‬‬\n",
      "‫‪Restatement,‬‬\n",
      "‫השוו במשפט האנגלי־אמריקני ;‪Trusts 2d, S. 264; Bogert, ibid., 468‬‬\n",
      "‫‪H.F. Stone, \"A Theory of Liability of the Trust Estate for the Contracts and‬‬\n",
      "‫‪Torts of the Trustee\", 22 C o l . L . R . (1922) 527; Scott, \"Liabilities Incurred in the‬‬\n",
      "‫‪.Administration of Trusts\", 28 H a r v . L . R. (1929) 725‬‬\n",
      "‫‪20‬‬\n",
      "\f‫‪§6‬‬\n",
      "‫החקיקה‬\n",
      "‫מבוא‬\n"
     ]
    }
   ],
   "source": [
    "from utils import rerank_chunks, print_chunks\n",
    "\n",
    "rerank_results = rerank_chunks(query, relevant_chunks_text)\n",
    "most_relevant_chunks = rerank_results[0:3]\n",
    "most_relevant_chunks_text = \"----------------------\\n\".join([c[\"text\"] for c in most_relevant_chunks])\n",
    "print(most_relevant_chunks_text)"
   ]
  },
  {
   "cell_type": "markdown",
   "metadata": {},
   "source": [
    "### Prompt LLM for an Actual Answer"
   ]
  },
  {
   "cell_type": "code",
   "execution_count": 82,
   "metadata": {},
   "outputs": [
    {
     "name": "stdout",
     "output_type": "stream",
     "text": [
      "Based on the given knowledge, I do not have enough information to confidently answer your question about the major challenges and issues faced by subordinate courts in Pakistan in effectively carrying out their functions. The provided text appears to be in a different language and does not seem directly relevant to the court system in Pakistan. Without additional relevant knowledge on this specific topic, I cannot provide a substantive response. I apologize that I cannot be more helpful in answering your query with my limited knowledge.\n"
     ]
    }
   ],
   "source": [
    "get_answer_prompt = [\n",
    "    SystemMessage(\"You are a legal assistant, you are given some knowledge about the topic, and a question. You must answer user's question only if its evident from the knowledge, If you cannot find or extract enough knowledge, let the user know that as per your limited knowledge you are not sure and won't be able to answer them\"),\n",
    "    HumanMessage(f\"Knowledge is made up of top text chunks in order, acquired after performing a similarity search in the knwoledge base for user's query \\n Knowledge: \\n {most_relevant_chunks_text} \\n question: {query}\")\n",
    "]\n",
    "get_answer_res = model.invoke(get_answer_prompt)\n",
    "print(get_answer_res.content)"
   ]
  }
 ],
 "metadata": {
  "kernelspec": {
   "display_name": ".venv",
   "language": "python",
   "name": "python3"
  },
  "language_info": {
   "codemirror_mode": {
    "name": "ipython",
    "version": 3
   },
   "file_extension": ".py",
   "mimetype": "text/x-python",
   "name": "python",
   "nbconvert_exporter": "python",
   "pygments_lexer": "ipython3",
   "version": "3.11.0"
  }
 },
 "nbformat": 4,
 "nbformat_minor": 2
}
