{
 "cells": [
  {
   "cell_type": "code",
   "execution_count": 87,
   "metadata": {},
   "outputs": [],
   "source": [
    "from langchain_anthropic import ChatAnthropic\n",
    "\n",
    "pinecone_namespace = \"simple-rag-1\"\n",
    "chat_history = [{\n",
    "    \"role\": \"human\",\n",
    "    \"message\": \"Describe the hierarchy and organizational structure of the judicial system in Pakistan.\"\n",
    "},\n",
    "    {\n",
    "    \"role\": \"ai\",\n",
    "    \"message\": \"The judicial system in Pakistan follows a hierarchical structure with the Supreme Court at the top, followed by High Courts in each province, and subordinate courts which include district and sessions courts, civil and judicial magistrates.\"\n",
    "},\n",
    "    {\n",
    "    \"role\": \"human\",\n",
    "    \"message\": \"what is the role of subordinate courts\"\n",
    "},\n",
    "    {\n",
    "    \"role\": \"ai\",\n",
    "    \"message\": \"Subordinate courts handle the bulk of civil and criminal cases at the district level.\"\n",
    "}\n",
    "\n",
    "]\n",
    "question = \"what challenges are faced by them\"\n",
    "\n",
    "model = ChatAnthropic(model=\"claude-3-sonnet-20240229\")\n",
    "\n",
    "test_response = model.invoke(\"Hello how are you?\")"
   ]
  },
  {
   "cell_type": "markdown",
   "metadata": {},
   "source": [
    "### Rephrase Query According to Conversation"
   ]
  },
  {
   "cell_type": "code",
   "execution_count": 88,
   "metadata": {},
   "outputs": [
    {
     "name": "stdout",
     "output_type": "stream",
     "text": [
      "What are the key challenges faced by subordinate courts in the judicial system of Pakistan?\n"
     ]
    }
   ],
   "source": [
    "from langchain_core.messages import HumanMessage, AIMessage, SystemMessage\n",
    "\n",
    "rephrase_query_prompt = [\n",
    "    SystemMessage(\n",
    "        \"Given the following conversation, repharase the followup question to be a standalone question, that is understandable and optimized for similarity search while preserving the meaning. The output should just be the rephrased question\")\n",
    "] + [\n",
    "    HumanMessage(entry[\"message\"]) if entry[\"role\"] == \"human\" else AIMessage(entry[\"message\"]) for entry in chat_history\n",
    "] + [HumanMessage(f\"followup: \\n {question}\")]\n",
    "rephrase_query_answer = model.invoke(rephrase_query_prompt)\n",
    "query = rephrase_query_answer.content\n",
    "print(query)"
   ]
  },
  {
   "cell_type": "markdown",
   "metadata": {},
   "source": [
    "### Find relevant chunks to rephrase query"
   ]
  },
  {
   "cell_type": "code",
   "execution_count": 89,
   "metadata": {},
   "outputs": [],
   "source": [
    "from utils import get_relevant_chunks\n",
    "\n",
    "relevant_chunks = get_relevant_chunks(query, pinecone_namespace, 10)\n",
    "relevant_chunks_text = [item[\"metadata\"][\"text\"] for item in relevant_chunks]"
   ]
  },
  {
   "cell_type": "markdown",
   "metadata": {},
   "source": [
    "### Rerank chunks"
   ]
  },
  {
   "cell_type": "code",
   "execution_count": 90,
   "metadata": {},
   "outputs": [
    {
     "name": "stdout",
     "output_type": "stream",
     "text": [
      "Judicial Statistics of Pakistan, op.cit.\n",
      "Judicial Statistics of Pakistan, op.cit.\n",
      "19\n",
      "\fThe Judicial System of Pakistan\n",
      "Supreme Court came down from 29 to 18, following a ruling of this Court in the case of Sindh High\n",
      "Court Bar Association v Federation wherein the judges who had taken oath under the Provisional\n",
      "Constitution Order (PCO) 2007. Similarly, close to one hundred judges of High Courts were also hit by\n",
      "the ruling and were denotified. The High Courts then took some time to regain their strength,\n",
      "through fresh induction.\n",
      "The Subordinate Courts continue to face the daunting challenge of shortage of strength, support\n",
      "staff, equipment and other budgetary constraints. The judiciary – 3rd pillar of the State – is not\n",
      "getting even 1% of the total budgetary allocation of the federal/provincial governments.\n",
      "Notwithstanding the deficiency in strength and budgetary constraints, due to efficient----------------------\n",
      "courts have heavy dockets, the Subordinate Courts have to bear the brunt. As first instance trial\n",
      "courts, most of the civil and criminal litigation is conducted at this level. According to one estimate,\n",
      "around 90% of litigation in Pakistan is conducted at the level of Subordinate Courts and the rest at\n",
      "the level of High Courts and Supreme Court. The Subordinate Courts also operate under many\n",
      "constraints. There exists shortage of courtrooms, judicial officers, ministerial staff and office\n",
      "equipment. The strength of Subordinate Judiciary has not kept pace with the rise in litigation due to\n",
      "which huge backlog of pending cases is accumulated, and there are enormous delays in deciding\n",
      "cases. As against the recommendations of several law reform commissions and committees that the\n",
      "number of cases pending with a civil judge should not be more than 500 and the number of units\n",
      "pending with a District & Sessions Judge should not be more than 450 at a time, in actual practice,----------------------\n",
      "The Judicial System of Pakistan\n",
      "5.\n",
      "Subordinate Courts\n",
      "The Subordinate Judiciary may be broadly divided into two classes; one, civil courts, established\n",
      "under the Civil Courts Ordinance 1962, and two, criminal courts, created under the Code of Criminal\n",
      "Procedure 1898. In addition, there also exist other courts and tribunals of civil and criminal nature,\n",
      "created under special laws. Their jurisdiction, powers and functions are specified in the statutes,\n",
      "creating them. The decisions and judgments of such special courts are assailable before the superior\n",
      "judiciary (High Court and/or Supreme Court) through revision or appeal.\n",
      "The provincial governments fund the justice sector. The civil and criminal courts judges and their\n",
      "terms and conditions are regulated under the provincial rules. The High Court, however, exercises\n",
      "administrative control over such courts. The civil courts consist of District Judge, Additional District\n"
     ]
    }
   ],
   "source": [
    "from utils import rerank_chunks, print_chunks\n",
    "\n",
    "rerank_results = rerank_chunks(query, relevant_chunks_text)\n",
    "most_relevant_chunks = rerank_results[0:3]\n",
    "most_relevant_chunks_text = \"----------------------\\n\".join([c[\"text\"] for c in most_relevant_chunks])\n",
    "print(most_relevant_chunks_text)"
   ]
  },
  {
   "cell_type": "markdown",
   "metadata": {},
   "source": [
    "### Prompt LLM for an Actual Answer"
   ]
  },
  {
   "cell_type": "code",
   "execution_count": 91,
   "metadata": {},
   "outputs": [
    {
     "name": "stdout",
     "output_type": "stream",
     "text": [
      "Based on the provided knowledge, some of the key challenges faced by subordinate courts in the judicial system of Pakistan are:\n",
      "\n",
      "1. Shortage of strength - There is a shortage of judicial officers and support staff in the subordinate courts.\n",
      "\n",
      "2. Lack of equipment and infrastructure - The knowledge mentions shortage of courtrooms and office equipment in the subordinate courts.\n",
      "\n",
      "3. Budgetary constraints - The judiciary is not getting even 1% of the total budgetary allocation from federal/provincial governments, leading to resource crunch.\n",
      "\n",
      "4. Huge backlog of pending cases - Due to shortage of judges and rise in litigation, there is an accumulation of enormous backlog of pending cases in subordinate courts, leading to delays in deciding cases.\n",
      "\n",
      "5. Heavy dockets/workload - The knowledge states that subordinate courts have to bear the brunt as around 90% of litigation in Pakistan is conducted at this level, resulting in heavy caseloads for judges.\n",
      "\n",
      "So in summary, the key challenges highlighted are inadequate human resources, lack of infrastructure/equipment, budgetary constraints, pendency of cases and very high workload on the subordinate judiciary in Pakistan.\n"
     ]
    }
   ],
   "source": [
    "get_answer_prompt = [\n",
    "    SystemMessage(\"You are a legal assistant, you are given some knowledge about the topic, and a question. You must answer user's question only if its evident from the knowledge, If you cannot find or extract enough knowledge, let the user know that as per your limited knowledge you are not sure and won't be able to answer them\"),\n",
    "    HumanMessage(f\"Knowledge is made up of top text chunks in order, acquired after performing a similarity search in the knwoledge base for user's query \\n Knowledge: \\n {most_relevant_chunks_text} \\n question: {query}\")\n",
    "]\n",
    "get_answer_res = model.invoke(get_answer_prompt)\n",
    "print(get_answer_res.content)"
   ]
  }
 ],
 "metadata": {
  "kernelspec": {
   "display_name": ".venv",
   "language": "python",
   "name": "python3"
  },
  "language_info": {
   "codemirror_mode": {
    "name": "ipython",
    "version": 3
   },
   "file_extension": ".py",
   "mimetype": "text/x-python",
   "name": "python",
   "nbconvert_exporter": "python",
   "pygments_lexer": "ipython3",
   "version": "3.11.0"
  }
 },
 "nbformat": 4,
 "nbformat_minor": 2
}
